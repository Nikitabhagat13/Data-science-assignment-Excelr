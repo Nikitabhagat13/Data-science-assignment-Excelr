{
 "cells": [
  {
   "cell_type": "code",
   "execution_count": 1,
   "id": "66746d71-83d9-4635-b067-b99a5e164bcc",
   "metadata": {
    "scrolled": true
   },
   "outputs": [
    {
     "data": {
      "text/html": [
       "<div>\n",
       "<style scoped>\n",
       "    .dataframe tbody tr th:only-of-type {\n",
       "        vertical-align: middle;\n",
       "    }\n",
       "\n",
       "    .dataframe tbody tr th {\n",
       "        vertical-align: top;\n",
       "    }\n",
       "\n",
       "    .dataframe thead th {\n",
       "        text-align: right;\n",
       "    }\n",
       "</style>\n",
       "<table border=\"1\" class=\"dataframe\">\n",
       "  <thead>\n",
       "    <tr style=\"text-align: right;\">\n",
       "      <th></th>\n",
       "      <th>Date</th>\n",
       "      <th>Day</th>\n",
       "      <th>SKU</th>\n",
       "      <th>City</th>\n",
       "      <th>Volume</th>\n",
       "      <th>BU</th>\n",
       "      <th>Brand</th>\n",
       "      <th>Model</th>\n",
       "      <th>Avg Price</th>\n",
       "      <th>Total Sales Value</th>\n",
       "      <th>Discount Rate (%)</th>\n",
       "      <th>Discount Amount</th>\n",
       "      <th>Net Sales Value</th>\n",
       "    </tr>\n",
       "  </thead>\n",
       "  <tbody>\n",
       "    <tr>\n",
       "      <th>0</th>\n",
       "      <td>01-04-2021</td>\n",
       "      <td>Thursday</td>\n",
       "      <td>M01</td>\n",
       "      <td>C</td>\n",
       "      <td>15</td>\n",
       "      <td>Mobiles</td>\n",
       "      <td>RealU</td>\n",
       "      <td>RU-10</td>\n",
       "      <td>12100</td>\n",
       "      <td>181500</td>\n",
       "      <td>11.654820</td>\n",
       "      <td>21153.498820</td>\n",
       "      <td>160346.501180</td>\n",
       "    </tr>\n",
       "    <tr>\n",
       "      <th>1</th>\n",
       "      <td>01-04-2021</td>\n",
       "      <td>Thursday</td>\n",
       "      <td>M02</td>\n",
       "      <td>C</td>\n",
       "      <td>10</td>\n",
       "      <td>Mobiles</td>\n",
       "      <td>RealU</td>\n",
       "      <td>RU-9 Plus</td>\n",
       "      <td>10100</td>\n",
       "      <td>101000</td>\n",
       "      <td>11.560498</td>\n",
       "      <td>11676.102961</td>\n",
       "      <td>89323.897039</td>\n",
       "    </tr>\n",
       "    <tr>\n",
       "      <th>2</th>\n",
       "      <td>01-04-2021</td>\n",
       "      <td>Thursday</td>\n",
       "      <td>M03</td>\n",
       "      <td>C</td>\n",
       "      <td>7</td>\n",
       "      <td>Mobiles</td>\n",
       "      <td>YouM</td>\n",
       "      <td>YM-99</td>\n",
       "      <td>16100</td>\n",
       "      <td>112700</td>\n",
       "      <td>9.456886</td>\n",
       "      <td>10657.910157</td>\n",
       "      <td>102042.089843</td>\n",
       "    </tr>\n",
       "    <tr>\n",
       "      <th>3</th>\n",
       "      <td>01-04-2021</td>\n",
       "      <td>Thursday</td>\n",
       "      <td>M04</td>\n",
       "      <td>C</td>\n",
       "      <td>6</td>\n",
       "      <td>Mobiles</td>\n",
       "      <td>YouM</td>\n",
       "      <td>YM-99 Plus</td>\n",
       "      <td>20100</td>\n",
       "      <td>120600</td>\n",
       "      <td>6.935385</td>\n",
       "      <td>8364.074702</td>\n",
       "      <td>112235.925298</td>\n",
       "    </tr>\n",
       "    <tr>\n",
       "      <th>4</th>\n",
       "      <td>01-04-2021</td>\n",
       "      <td>Thursday</td>\n",
       "      <td>M05</td>\n",
       "      <td>C</td>\n",
       "      <td>3</td>\n",
       "      <td>Mobiles</td>\n",
       "      <td>YouM</td>\n",
       "      <td>YM-98</td>\n",
       "      <td>8100</td>\n",
       "      <td>24300</td>\n",
       "      <td>17.995663</td>\n",
       "      <td>4372.946230</td>\n",
       "      <td>19927.053770</td>\n",
       "    </tr>\n",
       "    <tr>\n",
       "      <th>...</th>\n",
       "      <td>...</td>\n",
       "      <td>...</td>\n",
       "      <td>...</td>\n",
       "      <td>...</td>\n",
       "      <td>...</td>\n",
       "      <td>...</td>\n",
       "      <td>...</td>\n",
       "      <td>...</td>\n",
       "      <td>...</td>\n",
       "      <td>...</td>\n",
       "      <td>...</td>\n",
       "      <td>...</td>\n",
       "      <td>...</td>\n",
       "    </tr>\n",
       "    <tr>\n",
       "      <th>445</th>\n",
       "      <td>15-04-2021</td>\n",
       "      <td>Thursday</td>\n",
       "      <td>L06</td>\n",
       "      <td>C</td>\n",
       "      <td>2</td>\n",
       "      <td>Lifestyle</td>\n",
       "      <td>Jeera</td>\n",
       "      <td>M-Casuals</td>\n",
       "      <td>1300</td>\n",
       "      <td>2600</td>\n",
       "      <td>15.475687</td>\n",
       "      <td>402.367873</td>\n",
       "      <td>2197.632127</td>\n",
       "    </tr>\n",
       "    <tr>\n",
       "      <th>446</th>\n",
       "      <td>15-04-2021</td>\n",
       "      <td>Thursday</td>\n",
       "      <td>L07</td>\n",
       "      <td>C</td>\n",
       "      <td>6</td>\n",
       "      <td>Lifestyle</td>\n",
       "      <td>Viva</td>\n",
       "      <td>W-Western</td>\n",
       "      <td>2600</td>\n",
       "      <td>15600</td>\n",
       "      <td>17.057027</td>\n",
       "      <td>2660.896242</td>\n",
       "      <td>12939.103758</td>\n",
       "    </tr>\n",
       "    <tr>\n",
       "      <th>447</th>\n",
       "      <td>15-04-2021</td>\n",
       "      <td>Thursday</td>\n",
       "      <td>L08</td>\n",
       "      <td>C</td>\n",
       "      <td>2</td>\n",
       "      <td>Lifestyle</td>\n",
       "      <td>Viva</td>\n",
       "      <td>W-Lounge</td>\n",
       "      <td>1600</td>\n",
       "      <td>3200</td>\n",
       "      <td>18.965550</td>\n",
       "      <td>606.897606</td>\n",
       "      <td>2593.102394</td>\n",
       "    </tr>\n",
       "    <tr>\n",
       "      <th>448</th>\n",
       "      <td>15-04-2021</td>\n",
       "      <td>Thursday</td>\n",
       "      <td>L09</td>\n",
       "      <td>C</td>\n",
       "      <td>3</td>\n",
       "      <td>Lifestyle</td>\n",
       "      <td>Jeera</td>\n",
       "      <td>M-Formals</td>\n",
       "      <td>1900</td>\n",
       "      <td>5700</td>\n",
       "      <td>16.793014</td>\n",
       "      <td>957.201826</td>\n",
       "      <td>4742.798174</td>\n",
       "    </tr>\n",
       "    <tr>\n",
       "      <th>449</th>\n",
       "      <td>15-04-2021</td>\n",
       "      <td>Thursday</td>\n",
       "      <td>L10</td>\n",
       "      <td>C</td>\n",
       "      <td>1</td>\n",
       "      <td>Lifestyle</td>\n",
       "      <td>Jeera</td>\n",
       "      <td>M-Shoes</td>\n",
       "      <td>3100</td>\n",
       "      <td>3100</td>\n",
       "      <td>15.333300</td>\n",
       "      <td>475.332295</td>\n",
       "      <td>2624.667705</td>\n",
       "    </tr>\n",
       "  </tbody>\n",
       "</table>\n",
       "<p>450 rows × 13 columns</p>\n",
       "</div>"
      ],
      "text/plain": [
       "           Date       Day  SKU City  Volume         BU  Brand       Model  \\\n",
       "0    01-04-2021  Thursday  M01    C      15    Mobiles  RealU       RU-10   \n",
       "1    01-04-2021  Thursday  M02    C      10    Mobiles  RealU   RU-9 Plus   \n",
       "2    01-04-2021  Thursday  M03    C       7    Mobiles   YouM       YM-99   \n",
       "3    01-04-2021  Thursday  M04    C       6    Mobiles   YouM  YM-99 Plus   \n",
       "4    01-04-2021  Thursday  M05    C       3    Mobiles   YouM      YM-98    \n",
       "..          ...       ...  ...  ...     ...        ...    ...         ...   \n",
       "445  15-04-2021  Thursday  L06    C       2  Lifestyle  Jeera   M-Casuals   \n",
       "446  15-04-2021  Thursday  L07    C       6  Lifestyle   Viva   W-Western   \n",
       "447  15-04-2021  Thursday  L08    C       2  Lifestyle   Viva    W-Lounge   \n",
       "448  15-04-2021  Thursday  L09    C       3  Lifestyle  Jeera   M-Formals   \n",
       "449  15-04-2021  Thursday  L10    C       1  Lifestyle  Jeera     M-Shoes   \n",
       "\n",
       "     Avg Price  Total Sales Value  Discount Rate (%)  Discount Amount  \\\n",
       "0        12100             181500          11.654820     21153.498820   \n",
       "1        10100             101000          11.560498     11676.102961   \n",
       "2        16100             112700           9.456886     10657.910157   \n",
       "3        20100             120600           6.935385      8364.074702   \n",
       "4         8100              24300          17.995663      4372.946230   \n",
       "..         ...                ...                ...              ...   \n",
       "445       1300               2600          15.475687       402.367873   \n",
       "446       2600              15600          17.057027      2660.896242   \n",
       "447       1600               3200          18.965550       606.897606   \n",
       "448       1900               5700          16.793014       957.201826   \n",
       "449       3100               3100          15.333300       475.332295   \n",
       "\n",
       "     Net Sales Value  \n",
       "0      160346.501180  \n",
       "1       89323.897039  \n",
       "2      102042.089843  \n",
       "3      112235.925298  \n",
       "4       19927.053770  \n",
       "..               ...  \n",
       "445      2197.632127  \n",
       "446     12939.103758  \n",
       "447      2593.102394  \n",
       "448      4742.798174  \n",
       "449      2624.667705  \n",
       "\n",
       "[450 rows x 13 columns]"
      ]
     },
     "execution_count": 1,
     "metadata": {},
     "output_type": "execute_result"
    }
   ],
   "source": [
    "import pandas as pd\n",
    "df=pd.read_csv(r'C:\\Users\\nikit\\Downloads\\sales_data_with_discounts.csv')\n",
    "df"
   ]
  },
  {
   "cell_type": "code",
   "execution_count": 3,
   "id": "cff8f6dc-bf78-48ae-b5fd-ee7ae8ff101f",
   "metadata": {},
   "outputs": [
    {
     "data": {
      "text/plain": [
       "33812.83555555555"
      ]
     },
     "execution_count": 3,
     "metadata": {},
     "output_type": "execute_result"
    }
   ],
   "source": [
    "df[\"Total Sales Value\"].mean()\n",
    "#Interpretation\n",
    "#The average total sales value. It's higher than the median, suggesting right-skewness."
   ]
  },
  {
   "cell_type": "code",
   "execution_count": 4,
   "id": "3054d5bf-d17d-4b54-8b69-2edf28a2b9e5",
   "metadata": {},
   "outputs": [
    {
     "data": {
      "text/plain": [
       "5700.0"
      ]
     },
     "execution_count": 4,
     "metadata": {},
     "output_type": "execute_result"
    }
   ],
   "source": [
    "df[\"Total Sales Value\"].median()\n",
    "#The middle value when the data is sorted. Much lower than the mean, confirming positive skewness (a few high values pulling the mean up)."
   ]
  },
  {
   "cell_type": "code",
   "execution_count": 5,
   "id": "66bee497-115c-4bf5-8e89-0eae631188e0",
   "metadata": {},
   "outputs": [
    {
     "data": {
      "text/plain": [
       "0    24300\n",
       "Name: Total Sales Value, dtype: int64"
      ]
     },
     "execution_count": 5,
     "metadata": {},
     "output_type": "execute_result"
    }
   ],
   "source": [
    "df[\"Total Sales Value\"].mode()\n",
    "#The most frequently occurring sales value. This suggests that ₹24,300 is a common sales value in the dataset."
   ]
  },
  {
   "cell_type": "code",
   "execution_count": 6,
   "id": "e5db7109-eb33-4c72-bcd9-42f341a3cc97",
   "metadata": {},
   "outputs": [
    {
     "data": {
      "text/plain": [
       "50535.07417255328"
      ]
     },
     "execution_count": 6,
     "metadata": {},
     "output_type": "execute_result"
    }
   ],
   "source": [
    "df[\"Total Sales Value\"].std()\n",
    "#Indicates high variability in sales values. The values are widely spread out from the mean."
   ]
  },
  {
   "cell_type": "code",
   "execution_count": 7,
   "id": "05d0d181-b470-4925-9402-e91b30afa001",
   "metadata": {},
   "outputs": [
    {
     "data": {
      "text/plain": [
       "5.066666666666666"
      ]
     },
     "execution_count": 7,
     "metadata": {},
     "output_type": "execute_result"
    }
   ],
   "source": [
    "df[\"Volume\"].mean()\n",
    "#the average volume. Slightly above the median, indicating a mild right skew."
   ]
  },
  {
   "cell_type": "code",
   "execution_count": 8,
   "id": "a40a024f-ad67-40af-b9a7-7029ea031b0b",
   "metadata": {},
   "outputs": [
    {
     "data": {
      "text/plain": [
       "4.0"
      ]
     },
     "execution_count": 8,
     "metadata": {},
     "output_type": "execute_result"
    }
   ],
   "source": [
    "df[\"Volume\"].median()\n",
    "#The middle value of the volume data. Lower than the mean, confirming positive skewness."
   ]
  },
  {
   "cell_type": "code",
   "execution_count": 9,
   "id": "9334da49-d084-45dc-9545-a9259bf7da05",
   "metadata": {},
   "outputs": [
    {
     "data": {
      "text/plain": [
       "0    3\n",
       "Name: Volume, dtype: int64"
      ]
     },
     "execution_count": 9,
     "metadata": {},
     "output_type": "execute_result"
    }
   ],
   "source": [
    "df[\"Volume\"].mode()\n",
    "#The most frequently occurring volume, meaning 3 is the most common value."
   ]
  },
  {
   "cell_type": "code",
   "execution_count": 10,
   "id": "20955b6b-0c0b-4112-b217-a8ad4c0ed5f7",
   "metadata": {},
   "outputs": [
    {
     "data": {
      "text/plain": [
       "4.231602391213926"
      ]
     },
     "execution_count": 10,
     "metadata": {},
     "output_type": "execute_result"
    }
   ],
   "source": [
    "df[\"Volume\"].std()\n",
    "#Indicates that the volume values are moderately spread out from the mean."
   ]
  },
  {
   "cell_type": "code",
   "execution_count": 11,
   "id": "d1af395b-129c-41be-be4e-796368e28d74",
   "metadata": {},
   "outputs": [
    {
     "data": {
      "text/plain": [
       "10453.433333333332"
      ]
     },
     "execution_count": 11,
     "metadata": {},
     "output_type": "execute_result"
    }
   ],
   "source": [
    "df[\"Avg Price\"].mean()\n",
    "#This is the arithmetic average of all values. It's quite high, likely due to one or more large values (outliers).\n"
   ]
  },
  {
   "cell_type": "code",
   "execution_count": 13,
   "id": "711bb5b7-b445-4fe8-9ed9-a8e3fc0cd831",
   "metadata": {},
   "outputs": [
    {
     "data": {
      "text/plain": [
       "1450.0"
      ]
     },
     "execution_count": 13,
     "metadata": {},
     "output_type": "execute_result"
    }
   ],
   "source": [
    "df[\"Avg Price\"].median()\n",
    "#The middle value when data is sorted. It’s much lower than the mean, confirming the presence of high-value outliers pulling the mean up.\n"
   ]
  },
  {
   "cell_type": "code",
   "execution_count": 14,
   "id": "1a5b7e46-d394-4296-81c2-a086f477eac4",
   "metadata": {},
   "outputs": [
    {
     "data": {
      "text/plain": [
       "0     400\n",
       "1     450\n",
       "2     500\n",
       "3    1300\n",
       "4    8100\n",
       "Name: Avg Price, dtype: int64"
      ]
     },
     "execution_count": 14,
     "metadata": {},
     "output_type": "execute_result"
    }
   ],
   "source": [
    "df[\"Avg Price\"].mode()\n",
    "#These are the most frequently occurring values in the dataset. Multiple modes suggest the data may be multimodal (has several peaks in distribution)"
   ]
  },
  {
   "cell_type": "code",
   "execution_count": 15,
   "id": "a734be08-ad7d-40cd-86f1-e7e067802ffb",
   "metadata": {},
   "outputs": [
    {
     "data": {
      "text/plain": [
       "18079.90483993645"
      ]
     },
     "execution_count": 15,
     "metadata": {},
     "output_type": "execute_result"
    }
   ],
   "source": [
    "df[\"Avg Price\"].std()\n",
    "#this measures how spread out the data is from the mean. A very high standard deviation indicates high variability in prices, again likely due to outliers.\n"
   ]
  },
  {
   "cell_type": "code",
   "execution_count": 18,
   "id": "58ef6b8f-be35-4c3a-a7bb-8af57543f029",
   "metadata": {},
   "outputs": [
    {
     "data": {
      "text/plain": [
       "15.155241895330914"
      ]
     },
     "execution_count": 18,
     "metadata": {},
     "output_type": "execute_result"
    }
   ],
   "source": [
    "df[\"Discount Rate (%)\"].mean()\n",
    "#The average discount rate across all records is around 15.15%.\n"
   ]
  },
  {
   "cell_type": "code",
   "execution_count": 19,
   "id": "e90b55bd-2aca-480d-8b73-912813059cb3",
   "metadata": {},
   "outputs": [
    {
     "data": {
      "text/plain": [
       "16.57776564929597"
      ]
     },
     "execution_count": 19,
     "metadata": {},
     "output_type": "execute_result"
    }
   ],
   "source": [
    "df[\"Discount Rate (%)\"].median()\n",
    "#The middle value is a bit higher than the mean, suggesting a slightly left-skewed distribution (more lower values pulling the mean down).\n"
   ]
  },
  {
   "cell_type": "code",
   "execution_count": 20,
   "id": "dcfd9110-2911-48a3-8670-955e04162a91",
   "metadata": {},
   "outputs": [
    {
     "data": {
      "text/plain": [
       "0       5.007822\n",
       "1       5.055218\n",
       "2       5.059801\n",
       "3       5.072124\n",
       "4       5.084108\n",
       "         ...    \n",
       "445    19.940610\n",
       "446    19.965340\n",
       "447    19.976879\n",
       "448    19.982257\n",
       "449    19.992407\n",
       "Name: Discount Rate (%), Length: 450, dtype: float64"
      ]
     },
     "execution_count": 20,
     "metadata": {},
     "output_type": "execute_result"
    }
   ],
   "source": [
    "df[\"Discount Rate (%)\"].mode()\n",
    "#Since there are many unique values (450 modes), it indicates that the discount rates have a continuous-like spread with very few exact repeats — or almost every value is unique.\n"
   ]
  },
  {
   "cell_type": "code",
   "execution_count": 21,
   "id": "046ed694-aaa8-451b-b287-185e416a2d01",
   "metadata": {},
   "outputs": [
    {
     "data": {
      "text/plain": [
       "4.220602153325511"
      ]
     },
     "execution_count": 21,
     "metadata": {},
     "output_type": "execute_result"
    }
   ],
   "source": [
    "df[\"Discount Rate (%)\"].std()\n",
    "#This measures how much discount rates typically deviate from the mean of 15.15%. A standard deviation of 4.22 is moderate, suggesting values are reasonably clustered around the mean without extreme variation.\n",
    "\n"
   ]
  },
  {
   "cell_type": "code",
   "execution_count": 28,
   "id": "f20d1650-31f9-4b94-bb2b-742b92c4bed2",
   "metadata": {},
   "outputs": [
    {
     "data": {
      "text/plain": [
       "3346.499424342415"
      ]
     },
     "execution_count": 28,
     "metadata": {},
     "output_type": "execute_result"
    }
   ],
   "source": [
    "df[\"Discount Amount\"].mean()\n",
    "#The average discount amount is around 3346.5 units.\n",
    "\n"
   ]
  },
  {
   "cell_type": "code",
   "execution_count": 29,
   "id": "ae8b5dc9-c106-4330-8669-14e8633bfed9",
   "metadata": {},
   "outputs": [
    {
     "data": {
      "text/plain": [
       "988.9337332382784"
      ]
     },
     "execution_count": 29,
     "metadata": {},
     "output_type": "execute_result"
    }
   ],
   "source": [
    "df[\"Discount Amount\"].median()\n",
    "#The middle value is much lower than the mean, indicating a right-skewed distribution \n",
    " meaning some very high discount amounts (outliers) are pulling the mean up.\n"
   ]
  },
  {
   "cell_type": "code",
   "execution_count": 30,
   "id": "f0dfdaee-3490-404e-8de0-8c91aca9f8f4",
   "metadata": {},
   "outputs": [
    {
     "data": {
      "text/plain": [
       "0         69.177942\n",
       "1         73.025199\n",
       "2         93.649161\n",
       "3         94.682735\n",
       "4        102.705757\n",
       "           ...     \n",
       "445    17900.983733\n",
       "446    21153.498820\n",
       "447    21496.675367\n",
       "448    25328.224204\n",
       "449    25738.022194\n",
       "Name: Discount Amount, Length: 450, dtype: float64"
      ]
     },
     "execution_count": 30,
     "metadata": {},
     "output_type": "execute_result"
    }
   ],
   "source": [
    "df[\"Discount Amount\"].mode()\n",
    "#Since there are many unique values (450 modes), it suggests that discount amounts vary widely and most values are unique."
   ]
  },
  {
   "cell_type": "code",
   "execution_count": 31,
   "id": "5dee88be-8d2b-4b0f-b8a4-f1ac03985a42",
   "metadata": {},
   "outputs": [
    {
     "data": {
      "text/plain": [
       "4509.9029633539985"
      ]
     },
     "execution_count": 31,
     "metadata": {},
     "output_type": "execute_result"
    }
   ],
   "source": [
    "df[\"Discount Amount\"].std()\n",
    "#This is quite large relative to the mean and median, confirming high variability in discount amounts. A wide spread like this indicates outliers or a large range of values."
   ]
  },
  {
   "cell_type": "code",
   "execution_count": 32,
   "id": "2d8c2292-28d3-4b19-af19-882cbb59047d",
   "metadata": {},
   "outputs": [
    {
     "data": {
      "text/plain": [
       "30466.336131270138"
      ]
     },
     "execution_count": 32,
     "metadata": {},
     "output_type": "execute_result"
    }
   ],
   "source": [
    "df[\"Net Sales Value\"].mean()\n",
    "#The average sales value is around 30,466 units."
   ]
  },
  {
   "cell_type": "code",
   "execution_count": 36,
   "id": "f36403d5-08d7-45ba-866c-3d2449b74550",
   "metadata": {},
   "outputs": [
    {
     "data": {
      "text/plain": [
       "4677.788059301853"
      ]
     },
     "execution_count": 36,
     "metadata": {},
     "output_type": "execute_result"
    }
   ],
   "source": [
    "df[\"Net Sales Value\"].median()\n",
    "#The middle value is much lower than the mean, indicating a strong right-skewed distribution — where a few very large sales values are pulling the average up."
   ]
  },
  {
   "cell_type": "code",
   "execution_count": 35,
   "id": "15fc7603-b7ef-41e1-9f31-a025a70ea372",
   "metadata": {},
   "outputs": [
    {
     "data": {
      "text/plain": [
       "0         326.974801\n",
       "1         330.822058\n",
       "2         466.350839\n",
       "3         485.317265\n",
       "4         496.607104\n",
       "           ...      \n",
       "445    162603.186379\n",
       "446    163915.971000\n",
       "447    163967.080070\n",
       "448    166263.161348\n",
       "449    179507.479049\n",
       "Name: Net Sales Value, Length: 450, dtype: float64"
      ]
     },
     "execution_count": 35,
     "metadata": {},
     "output_type": "execute_result"
    }
   ],
   "source": [
    "df[\"Net Sales Value\"].mode()\n",
    "#The middle value is much lower than the mean, indicating a strong right-skewed distribution — where a few very large sales values are pulling the average up."
   ]
  },
  {
   "cell_type": "code",
   "execution_count": 34,
   "id": "b62f7157-b617-4d41-86ba-86f7ed553760",
   "metadata": {},
   "outputs": [
    {
     "data": {
      "text/plain": [
       "46358.656624066934"
      ]
     },
     "execution_count": 34,
     "metadata": {},
     "output_type": "execute_result"
    }
   ],
   "source": [
    "df[\"Net Sales Value\"].std()\n",
    "#This is very high — even larger than the mean — confirming extreme spread and high variability in sales values."
   ]
  },
  {
   "cell_type": "code",
   "execution_count": 4,
   "id": "73312840-568e-4fc1-89d2-a7d1a77fa8ab",
   "metadata": {},
   "outputs": [
    {
     "data": {
      "text/plain": [
       "(array([213., 137.,  49.,  26.,  15.,   2.,   0.,   4.,   1.,   3.]),\n",
       " array([ 1.,  4.,  7., 10., 13., 16., 19., 22., 25., 28., 31.]),\n",
       " <BarContainer object of 10 artists>)"
      ]
     },
     "execution_count": 4,
     "metadata": {},
     "output_type": "execute_result"
    },
    {
     "data": {
      "image/png": "[encoded data removed]",
      "text/plain": [
       "<Figure size 640x480 with 1 Axes>"
      ]
     },
     "metadata": {},
     "output_type": "display_data"
    }
   ],
   "source": [
    "#histogram\n",
    "\n",
    "import matplotlib.pyplot as plt\n",
    "import pandas as pd \n",
    "data =pd.read_csv(r\"C:\\Users\\nikit\\Downloads\\sales_data_with_discounts.csv\")\n",
    "plt.hist(data['Volume'],edgecolor='Yellow')\n",
    "\n"
   ]
  },
  {
   "cell_type": "code",
   "execution_count": 5,
   "id": "9651d2d7-09c4-4c9d-b7e5-a77be22c85cc",
   "metadata": {},
   "outputs": [
    {
     "data": {
      "text/plain": [
       "(array([300.,  60.,  15.,  15.,   0.,   0.,   0.,   0.,  30.,  30.]),\n",
       " array([  290.,  6271., 12252., 18233., 24214., 30195., 36176., 42157.,\n",
       "        48138., 54119., 60100.]),\n",
       " <BarContainer object of 10 artists>)"
      ]
     },
     "execution_count": 5,
     "metadata": {},
     "output_type": "execute_result"
    },
    {
     "data": {
      "image/png": "[encoded data removed]",
      "text/plain": [
       "<Figure size 640x480 with 1 Axes>"
      ]
     },
     "metadata": {},
     "output_type": "display_data"
    }
   ],
   "source": [
    "import matplotlib.pyplot as plt\n",
    "import pandas as pd\n",
    "data = pd.read_csv(\"Sales_data_with_discounts.csv\")\n",
    "plt.title('Avg Price')\n",
    "plt.hist(data['Avg Price'], edgecolor='yellow')\n",
    "\n"
   ]
  },
  {
   "cell_type": "code",
   "execution_count": 6,
   "id": "c762e11b-78ce-40ac-8f81-62536c74a475",
   "metadata": {},
   "outputs": [
    {
     "data": {
      "text/plain": [
       "Text(0.5, 1.0, 'Total Sales Value')"
      ]
     },
     "execution_count": 6,
     "metadata": {},
     "output_type": "execute_result"
    },
    {
     "data": {
      "image/png": "[encoded data removed]",
      "text/plain": [
       "<Figure size 640x480 with 1 Axes>"
      ]
     },
     "metadata": {},
     "output_type": "display_data"
    }
   ],
   "source": [
    "import matplotlib.pyplot as plt\n",
    "import pandas as pd\n",
    "data = pd.read_csv(\"Sales_data_with_discounts.csv\")\n",
    "plt.hist(data['Total Sales Value'], edgecolor='yellow')\n",
    "plt.title('Total Sales Value')"
   ]
  },
  {
   "cell_type": "code",
   "execution_count": 8,
   "id": "6427868c-5076-4c11-acd8-1f1d69483ae9",
   "metadata": {},
   "outputs": [
    {
     "data": {
      "text/plain": [
       "Text(0.5, 1.0, 'Discount Rate (%)')"
      ]
     },
     "execution_count": 8,
     "metadata": {},
     "output_type": "execute_result"
    },
    {
     "data": {
      "image/png": "[encoded data removed]",
      "text/plain": [
       "<Figure size 640x480 with 1 Axes>"
      ]
     },
     "metadata": {},
     "output_type": "display_data"
    }
   ],
   "source": [
    "import matplotlib.pyplot as plt\n",
    "import pandas as pd\n",
    "data = pd.read_csv(\"Sales_data_with_discounts.csv\")\n",
    "plt.hist(data['Discount Rate (%)'], edgecolor='yellow')\n",
    "plt.title('Discount Rate (%)')"
   ]
  },
  {
   "cell_type": "code",
   "execution_count": 10,
   "id": "7b03995e-9ddc-4f5b-89a1-b31e3c4bee26",
   "metadata": {},
   "outputs": [
    {
     "data": {
      "text/plain": [
       "Text(0.5, 1.0, 'Discount Amount')"
      ]
     },
     "execution_count": 10,
     "metadata": {},
     "output_type": "execute_result"
    },
    {
     "data": {
      "image/png": "[encoded data removed]",
      "text/plain": [
       "<Figure size 640x480 with 1 Axes>"
      ]
     },
     "metadata": {},
     "output_type": "display_data"
    }
   ],
   "source": [
    "import matplotlib.pyplot as plt\n",
    "import pandas as pd\n",
    "data = pd.read_csv(\"Sales_data_with_discounts.csv\")\n",
    "plt.hist(data['Discount Amount'], edgecolor='yellow')\n",
    "plt.title('Discount Amount')"
   ]
  },
  {
   "cell_type": "code",
   "execution_count": 25,
   "id": "d77b67f5-1e92-4076-98e3-dfb3b74ded59",
   "metadata": {},
   "outputs": [
    {
     "data": {
      "text/plain": [
       "Text(0.5, 1.0, 'Net Sales Value')"
      ]
     },
     "execution_count": 25,
     "metadata": {},
     "output_type": "execute_result"
    },
    {
     "data": {
      "image/png": "[encoded data removed]",
      "text/plain": [
       "<Figure size 640x480 with 1 Axes>"
      ]
     },
     "metadata": {},
     "output_type": "display_data"
    }
   ],
   "source": [
    "import matplotlib.pyplot as plt\n",
    "import pandas as pd\n",
    "data = pd.read_csv(\"Sales_data_with_discounts.csv\")\n",
    "plt.hist(data['Net Sales Value'], edgecolor='yellow')\n",
    "plt.title('Net Sales Value')    "
   ]
  },
  {
   "cell_type": "code",
   "execution_count": 1,
   "id": "cf16ba81-e6cc-4a5a-99dd-e2f27c12f443",
   "metadata": {},
   "outputs": [
    {
     "data": {
      "image/png": "[encoded data removed]",
      "text/plain": [
       "<Figure size 640x480 with 1 Axes>"
      ]
     },
     "metadata": {},
     "output_type": "display_data"
    }
   ],
   "source": [
    "#Boxplot\n",
    "\n",
    "import pandas as pd\n",
    "import seaborn as sns\n",
    "import matplotlib.pyplot as plt\n",
    "df = pd.read_csv(r'C:\\Users\\nikit\\Downloads\\sales_data_with_discounts.csv')  \n",
    "df\n",
    "plt.boxplot(df['Volume'])\n",
    "plt.title('Volume')\n",
    "plt.show()"
   ]
  },
  {
   "cell_type": "code",
   "execution_count": 2,
   "id": "c03e7aaa-4f03-4342-bccc-4077500ec30a",
   "metadata": {},
   "outputs": [
    {
     "data": {
      "image/png": "[encoded data removed]",
      "text/plain": [
       "<Figure size 640x480 with 1 Axes>"
      ]
     },
     "metadata": {},
     "output_type": "display_data"
    }
   ],
   "source": [
    "import pandas as pd\n",
    "import seaborn as sns\n",
    "import matplotlib.pyplot as plt\n",
    "df = pd.read_csv(r'C:\\Users\\nikit\\Downloads\\sales_data_with_discounts.csv')  \n",
    "plt.boxplot(df['Avg Price'])\n",
    "plt.title('Avg Price')\n",
    "plt.show()"
   ]
  },
  {
   "cell_type": "code",
   "execution_count": 4,
   "id": "2ef62b18-b779-4704-8b3a-ce7368b0cef0",
   "metadata": {},
   "outputs": [
    {
     "data": {
      "image/png": "[encoded data removed]",
      "text/plain": [
       "<Figure size 640x480 with 1 Axes>"
      ]
     },
     "metadata": {},
     "output_type": "display_data"
    }
   ],
   "source": [
    "import pandas as pd\n",
    "import seaborn as sns\n",
    "import matplotlib.pyplot as plt\n",
    "df = pd.read_csv(r'C:\\Users\\nikit\\Downloads\\sales_data_with_discounts.csv')  \n",
    "df\n",
    "plt.boxplot(df['Total Sales Value'])\n",
    "plt.title('Total Sales Value')\n",
    "plt.show()"
   ]
  },
  {
   "cell_type": "code",
   "execution_count": 8,
   "id": "e5080749-0be5-43b4-962d-ef3f1cf364f8",
   "metadata": {},
   "outputs": [
    {
     "data": {
      "image/png": "[encoded data removed]",
      "text/plain": [
       "<Figure size 640x480 with 1 Axes>"
      ]
     },
     "metadata": {},
     "output_type": "display_data"
    }
   ],
   "source": [
    "import pandas as pd\n",
    "import seaborn as sns\n",
    "import matplotlib.pyplot as plt\n",
    "df = pd.read_csv(r'C:\\Users\\nikit\\Downloads\\sales_data_with_discounts.csv')  \n",
    "df\n",
    "plt.boxplot(df['Discount Rate (%)'])\n",
    "plt.title('Discount Rate (%)')\n",
    "plt.show()"
   ]
  },
  {
   "cell_type": "code",
   "execution_count": 9,
   "id": "e5bdfff2-6571-469a-bbda-4c3901f315c2",
   "metadata": {},
   "outputs": [
    {
     "data": {
      "image/png": "[encoded data removed]",
      "text/plain": [
       "<Figure size 640x480 with 1 Axes>"
      ]
     },
     "metadata": {},
     "output_type": "display_data"
    }
   ],
   "source": [
    "import pandas as pd\n",
    "import seaborn as sns\n",
    "import matplotlib.pyplot as plt\n",
    "df = pd.read_csv(r'C:\\Users\\nikit\\Downloads\\sales_data_with_discounts.csv')  \n",
    "df\n",
    "plt.boxplot(df['Discount Amount'])\n",
    "plt.title('Discount Amount')\n",
    "plt.show()"
   ]
  },
  {
   "cell_type": "code",
   "execution_count": 10,
   "id": "3b889982-6a01-45c3-ab78-828d61d4eb69",
   "metadata": {},
   "outputs": [
    {
     "data": {
      "image/png": "[encoded data removed]",
      "text/plain": [
       "<Figure size 640x480 with 1 Axes>"
      ]
     },
     "metadata": {},
     "output_type": "display_data"
    }
   ],
   "source": [
    "import pandas as pd\n",
    "import seaborn as sns\n",
    "import matplotlib.pyplot as plt\n",
    "df = pd.read_csv(r'C:\\Users\\nikit\\Downloads\\sales_data_with_discounts.csv')  \n",
    "df\n",
    "plt.boxplot(df['Net Sales Value'])\n",
    "plt.title('Net Sales Value')\n",
    "plt.show()"
   ]
  },
  {
   "cell_type": "code",
   "execution_count": 11,
   "id": "694cd68d-05f8-43dd-9909-b9f732203b15",
   "metadata": {},
   "outputs": [
    {
     "name": "stdout",
     "output_type": "stream",
     "text": [
      "Categorical Columns: ['Date', 'Day', 'SKU', 'City', 'BU', 'Brand', 'Model']\n"
     ]
    }
   ],
   "source": [
    "#Bar Chart Analysis for Categorical Column:\n",
    "\n",
    "import pandas as pd\n",
    "df = pd.read_csv(r'C:\\Users\\nikit\\Downloads\\sales_data_with_discounts.csv')  \n",
    "df\n",
    "categorical_columns = df.select_dtypes(include=['object', 'category']).columns\n",
    "print(\"Categorical Columns:\", categorical_columns.tolist())"
   ]
  },
  {
   "cell_type": "code",
   "execution_count": 9,
   "id": "60c52520-9c6a-480c-af60-fadea0125755",
   "metadata": {},
   "outputs": [
    {
     "data": {
      "image/png": "[encoded data removed]",
      "text/plain": [
       "<Figure size 800x600 with 1 Axes>"
      ]
     },
     "metadata": {},
     "output_type": "display_data"
    }
   ],
   "source": [
    "import pandas as pd\n",
    "import matplotlib.pyplot as plt\n",
    "\n",
    "df = pd.read_csv(r'C:\\Users\\nikit\\Downloads\\sales_data_with_discounts.csv')  \n",
    "df\n",
    "df = pd.DataFrame(df)\n",
    "category_counts = df['Date'].value_counts()\n",
    "plt.bar(category_counts.index, category_counts.values, color='skyblue')\n",
    "plt.title('Date Frequency ')\n",
    "plt.xlabel('Date')\n",
    "plt.ylabel('Count')\n",
    "plt.show()\n"
   ]
  },
  {
   "cell_type": "code",
   "execution_count": 25,
   "id": "5803f218-ffe2-4bbb-a5c6-865ff028d722",
   "metadata": {},
   "outputs": [
    {
     "data": {
      "image/png": "[encoded data removed]",
      "text/plain": [
       "<Figure size 640x480 with 1 Axes>"
      ]
     },
     "metadata": {},
     "output_type": "display_data"
    }
   ],
   "source": [
    "import pandas as pd\n",
    "import matplotlib.pyplot as plt\n",
    "\n",
    "df = pd.read_csv(r'C:\\Users\\nikit\\Downloads\\sales_data_with_discounts.csv')  \n",
    "df\n",
    "df = pd.DataFrame(df)\n",
    "category_counts = df['Day'].value_counts()\n",
    "plt.bar(category_counts.index, category_counts.values, color='blue')\n",
    "plt.title('Day Frequency ')\n",
    "plt.xlabel('Day')\n",
    "plt.ylabel('Count')\n",
    "plt.show()"
   ]
  },
  {
   "cell_type": "code",
   "execution_count": 16,
   "id": "4694767a-a018-4dfa-86a7-2c4239fb75c4",
   "metadata": {},
   "outputs": [
    {
     "data": {
      "image/png": "[encoded data removed]",
      "text/plain": [
       "<Figure size 640x480 with 1 Axes>"
      ]
     },
     "metadata": {},
     "output_type": "display_data"
    }
   ],
   "source": [
    "import pandas as pd\n",
    "import matplotlib.pyplot as plt\n",
    "\n",
    "df = pd.read_csv(r'C:\\Users\\nikit\\Downloads\\sales_data_with_discounts.csv')  \n",
    "df\n",
    "df = pd.DataFrame(df)\n",
    "category_counts = df['SKU'].value_counts()\n",
    "plt.bar(category_counts.index, category_counts.values, color='pink')\n",
    "plt.title('SKU Frequency ')\n",
    "plt.xlabel('SKU')\n",
    "plt.ylabel('Count')\n",
    "plt.show()"
   ]
  },
  {
   "cell_type": "code",
   "execution_count": 17,
   "id": "ba230f20-3a20-4a10-9b04-997f1fd23ff8",
   "metadata": {},
   "outputs": [
    {
     "data": {
      "image/png": "[encoded data removed]",
      "text/plain": [
       "<Figure size 640x480 with 1 Axes>"
      ]
     },
     "metadata": {},
     "output_type": "display_data"
    }
   ],
   "source": [
    "import pandas as pd\n",
    "import matplotlib.pyplot as plt\n",
    "\n",
    "df = pd.read_csv(r'C:\\Users\\nikit\\Downloads\\sales_data_with_discounts.csv')  \n",
    "df\n",
    "df = pd.DataFrame(df)\n",
    "category_counts = df['City'].value_counts()\n",
    "plt.bar(category_counts.index, category_counts.values, color='red')\n",
    "plt.title('City Frequency ')\n",
    "plt.xlabel('City')\n",
    "plt.ylabel('Count')\n",
    "plt.show()"
   ]
  },
  {
   "cell_type": "code",
   "execution_count": 24,
   "id": "76cf84eb-6a16-45a0-a37a-7a7dbbf296c8",
   "metadata": {},
   "outputs": [
    {
     "data": {
      "image/png": "[encoded data removed]",
      "text/plain": [
       "<Figure size 640x480 with 1 Axes>"
      ]
     },
     "metadata": {},
     "output_type": "display_data"
    }
   ],
   "source": [
    "import pandas as pd\n",
    "import matplotlib.pyplot as plt\n",
    "\n",
    "df = pd.read_csv(r'C:\\Users\\nikit\\Downloads\\sales_data_with_discounts.csv')  \n",
    "df\n",
    "df = pd.DataFrame(df)\n",
    "category_counts = df['BU'].value_counts()\n",
    "plt.bar(category_counts.index, category_counts.values, color='lightpink')\n",
    "plt.title('BU Frequency ')\n",
    "plt.xlabel('BU')\n",
    "plt.ylabel('Count')\n",
    "plt.show()"
   ]
  },
  {
   "cell_type": "code",
   "execution_count": 21,
   "id": "732cabc6-a0bb-44d0-95d5-b0e458a1f00b",
   "metadata": {},
   "outputs": [
    {
     "data": {
      "image/png": "[encoded data removed]",
      "text/plain": [
       "<Figure size 640x480 with 1 Axes>"
      ]
     },
     "metadata": {},
     "output_type": "display_data"
    }
   ],
   "source": [
    "import pandas as pd\n",
    "import matplotlib.pyplot as plt\n",
    "\n",
    "df = pd.read_csv(r'C:\\Users\\nikit\\Downloads\\sales_data_with_discounts.csv')  \n",
    "df\n",
    "df = pd.DataFrame(df)\n",
    "category_counts = df['Brand'].value_counts()\n",
    "plt.bar(category_counts.index, category_counts.values, color='lightgreen')\n",
    "plt.title('Brand Frequency ')\n",
    "plt.xlabel('Brand')\n",
    "plt.ylabel('Count')\n",
    "plt.show()"
   ]
  },
  {
   "cell_type": "code",
   "execution_count": 22,
   "id": "5e50ac43-4cad-4118-a325-96e63e270756",
   "metadata": {},
   "outputs": [
    {
     "data": {
      "image/png": "[encoded data removed]",
      "text/plain": [
       "<Figure size 640x480 with 1 Axes>"
      ]
     },
     "metadata": {},
     "output_type": "display_data"
    }
   ],
   "source": [
    "import pandas as pd\n",
    "import matplotlib.pyplot as plt\n",
    "\n",
    "df = pd.read_csv(r'C:\\Users\\nikit\\Downloads\\sales_data_with_discounts.csv')  \n",
    "df\n",
    "df = pd.DataFrame(df)\n",
    "category_counts = df['Model'].value_counts()\n",
    "plt.bar(category_counts.index, category_counts.values, color='yellow')\n",
    "plt.title('Model Frequency ')\n",
    "plt.xlabel('Model')\n",
    "plt.ylabel('Count')\n",
    "plt.show()"
   ]
  },
  {
   "cell_type": "code",
   "execution_count": 8,
   "id": "48b32262-a625-44c4-b902-d5d9a96b7d84",
   "metadata": {},
   "outputs": [
    {
     "name": "stdout",
     "output_type": "stream",
     "text": [
      "Summary Statistics Before Standardization:\n",
      "           Date       Day  SKU City  Volume         BU  Brand       Model  \\\n",
      "0    01-04-2021  Thursday  M01    C      15    Mobiles  RealU       RU-10   \n",
      "1    01-04-2021  Thursday  M02    C      10    Mobiles  RealU   RU-9 Plus   \n",
      "2    01-04-2021  Thursday  M03    C       7    Mobiles   YouM       YM-99   \n",
      "3    01-04-2021  Thursday  M04    C       6    Mobiles   YouM  YM-99 Plus   \n",
      "4    01-04-2021  Thursday  M05    C       3    Mobiles   YouM      YM-98    \n",
      "..          ...       ...  ...  ...     ...        ...    ...         ...   \n",
      "445  15-04-2021  Thursday  L06    C       2  Lifestyle  Jeera   M-Casuals   \n",
      "446  15-04-2021  Thursday  L07    C       6  Lifestyle   Viva   W-Western   \n",
      "447  15-04-2021  Thursday  L08    C       2  Lifestyle   Viva    W-Lounge   \n",
      "448  15-04-2021  Thursday  L09    C       3  Lifestyle  Jeera   M-Formals   \n",
      "449  15-04-2021  Thursday  L10    C       1  Lifestyle  Jeera     M-Shoes   \n",
      "\n",
      "     Avg Price  Total Sales Value  Discount Rate (%)  Discount Amount  \\\n",
      "0        12100             181500          11.654820     21153.498820   \n",
      "1        10100             101000          11.560498     11676.102961   \n",
      "2        16100             112700           9.456886     10657.910157   \n",
      "3        20100             120600           6.935385      8364.074702   \n",
      "4         8100              24300          17.995663      4372.946230   \n",
      "..         ...                ...                ...              ...   \n",
      "445       1300               2600          15.475687       402.367873   \n",
      "446       2600              15600          17.057027      2660.896242   \n",
      "447       1600               3200          18.965550       606.897606   \n",
      "448       1900               5700          16.793014       957.201826   \n",
      "449       3100               3100          15.333300       475.332295   \n",
      "\n",
      "     Net Sales Value  \n",
      "0      160346.501180  \n",
      "1       89323.897039  \n",
      "2      102042.089843  \n",
      "3      112235.925298  \n",
      "4       19927.053770  \n",
      "..               ...  \n",
      "445      2197.632127  \n",
      "446     12939.103758  \n",
      "447      2593.102394  \n",
      "448      4742.798174  \n",
      "449      2624.667705  \n",
      "\n",
      "[450 rows x 13 columns]\n"
     ]
    }
   ],
   "source": [
    "# Displaying summary statistics before standardization\n",
    "df = pd.read_csv(r'C:\\Users\\nikit\\Downloads\\sales_data_with_discounts.csv')  \n",
    "df\n",
    "print(\"Summary Statistics Before Standardization:\")\n",
    "print (df)"
   ]
  },
  {
   "cell_type": "code",
   "execution_count": 9,
   "id": "88f14093-077b-4fec-b743-da2334b28019",
   "metadata": {},
   "outputs": [
    {
     "data": {
      "text/plain": [
       "['Volume',\n",
       " 'Avg Price',\n",
       " 'Total Sales Value',\n",
       " 'Discount Rate (%)',\n",
       " 'Discount Amount',\n",
       " 'Net Sales Value']"
      ]
     },
     "execution_count": 9,
     "metadata": {},
     "output_type": "execute_result"
    }
   ],
   "source": [
    "# Importing necessary libraries\n",
    "from sklearn.preprocessing import StandardScaler\n",
    "\n",
    "# Selecting numerical columns for standardization\n",
    "numerical_columns = ['Volume', 'Avg Price', 'Total Sales Value', 'Discount Rate (%)', 'Discount Amount', 'Net Sales Value']\n",
    "numerical_columns"
   ]
  },
  {
   "cell_type": "code",
   "execution_count": 10,
   "id": "1e451da3-1696-414e-a383-a62ee49be9dc",
   "metadata": {},
   "outputs": [
    {
     "data": {
      "text/html": [
       "<style>#sk-container-id-1 {\n",
       "  /* Definition of color scheme common for light and dark mode */\n",
       "  --sklearn-color-text: black;\n",
       "  --sklearn-color-line: gray;\n",
       "  /* Definition of color scheme for unfitted estimators */\n",
       "  --sklearn-color-unfitted-level-0: #fff5e6;\n",
       "  --sklearn-color-unfitted-level-1: #f6e4d2;\n",
       "  --sklearn-color-unfitted-level-2: #ffe0b3;\n",
       "  --sklearn-color-unfitted-level-3: chocolate;\n",
       "  /* Definition of color scheme for fitted estimators */\n",
       "  --sklearn-color-fitted-level-0: #f0f8ff;\n",
       "  --sklearn-color-fitted-level-1: #d4ebff;\n",
       "  --sklearn-color-fitted-level-2: #b3dbfd;\n",
       "  --sklearn-color-fitted-level-3: cornflowerblue;\n",
       "\n",
       "  /* Specific color for light theme */\n",
       "  --sklearn-color-text-on-default-background: var(--sg-text-color, var(--theme-code-foreground, var(--jp-content-font-color1, black)));\n",
       "  --sklearn-color-background: var(--sg-background-color, var(--theme-background, var(--jp-layout-color0, white)));\n",
       "  --sklearn-color-border-box: var(--sg-text-color, var(--theme-code-foreground, var(--jp-content-font-color1, black)));\n",
       "  --sklearn-color-icon: #696969;\n",
       "\n",
       "  @media (prefers-color-scheme: dark) {\n",
       "    /* Redefinition of color scheme for dark theme */\n",
       "    --sklearn-color-text-on-default-background: var(--sg-text-color, var(--theme-code-foreground, var(--jp-content-font-color1, white)));\n",
       "    --sklearn-color-background: var(--sg-background-color, var(--theme-background, var(--jp-layout-color0, #111)));\n",
       "    --sklearn-color-border-box: var(--sg-text-color, var(--theme-code-foreground, var(--jp-content-font-color1, white)));\n",
       "    --sklearn-color-icon: #878787;\n",
       "  }\n",
       "}\n",
       "\n",
       "#sk-container-id-1 {\n",
       "  color: var(--sklearn-color-text);\n",
       "}\n",
       "\n",
       "#sk-container-id-1 pre {\n",
       "  padding: 0;\n",
       "}\n",
       "\n",
       "#sk-container-id-1 input.sk-hidden--visually {\n",
       "  border: 0;\n",
       "  clip: rect(1px 1px 1px 1px);\n",
       "  clip: rect(1px, 1px, 1px, 1px);\n",
       "  height: 1px;\n",
       "  margin: -1px;\n",
       "  overflow: hidden;\n",
       "  padding: 0;\n",
       "  position: absolute;\n",
       "  width: 1px;\n",
       "}\n",
       "\n",
       "#sk-container-id-1 div.sk-dashed-wrapped {\n",
       "  border: 1px dashed var(--sklearn-color-line);\n",
       "  margin: 0 0.4em 0.5em 0.4em;\n",
       "  box-sizing: border-box;\n",
       "  padding-bottom: 0.4em;\n",
       "  background-color: var(--sklearn-color-background);\n",
       "}\n",
       "\n",
       "#sk-container-id-1 div.sk-container {\n",
       "  /* jupyter's `normalize.less` sets `[hidden] { display: none; }`\n",
       "     but bootstrap.min.css set `[hidden] { display: none !important; }`\n",
       "     so we also need the `!important` here to be able to override the\n",
       "     default hidden behavior on the sphinx rendered scikit-learn.org.\n",
       "     See: https://github.com/scikit-learn/scikit-learn/issues/21755 */\n",
       "  display: inline-block !important;\n",
       "  position: relative;\n",
       "}\n",
       "\n",
       "#sk-container-id-1 div.sk-text-repr-fallback {\n",
       "  display: none;\n",
       "}\n",
       "\n",
       "div.sk-parallel-item,\n",
       "div.sk-serial,\n",
       "div.sk-item {\n",
       "  /* draw centered vertical line to link estimators */\n",
       "  background-image: linear-gradient(var(--sklearn-color-text-on-default-background), var(--sklearn-color-text-on-default-background));\n",
       "  background-size: 2px 100%;\n",
       "  background-repeat: no-repeat;\n",
       "  background-position: center center;\n",
       "}\n",
       "\n",
       "/* Parallel-specific style estimator block */\n",
       "\n",
       "#sk-container-id-1 div.sk-parallel-item::after {\n",
       "  content: \"\";\n",
       "  width: 100%;\n",
       "  border-bottom: 2px solid var(--sklearn-color-text-on-default-background);\n",
       "  flex-grow: 1;\n",
       "}\n",
       "\n",
       "#sk-container-id-1 div.sk-parallel {\n",
       "  display: flex;\n",
       "  align-items: stretch;\n",
       "  justify-content: center;\n",
       "  background-color: var(--sklearn-color-background);\n",
       "  position: relative;\n",
       "}\n",
       "\n",
       "#sk-container-id-1 div.sk-parallel-item {\n",
       "  display: flex;\n",
       "  flex-direction: column;\n",
       "}\n",
       "\n",
       "#sk-container-id-1 div.sk-parallel-item:first-child::after {\n",
       "  align-self: flex-end;\n",
       "  width: 50%;\n",
       "}\n",
       "\n",
       "#sk-container-id-1 div.sk-parallel-item:last-child::after {\n",
       "  align-self: flex-start;\n",
       "  width: 50%;\n",
       "}\n",
       "\n",
       "#sk-container-id-1 div.sk-parallel-item:only-child::after {\n",
       "  width: 0;\n",
       "}\n",
       "\n",
       "/* Serial-specific style estimator block */\n",
       "\n",
       "#sk-container-id-1 div.sk-serial {\n",
       "  display: flex;\n",
       "  flex-direction: column;\n",
       "  align-items: center;\n",
       "  background-color: var(--sklearn-color-background);\n",
       "  padding-right: 1em;\n",
       "  padding-left: 1em;\n",
       "}\n",
       "\n",
       "\n",
       "/* Toggleable style: style used for estimator/Pipeline/ColumnTransformer box that is\n",
       "clickable and can be expanded/collapsed.\n",
       "- Pipeline and ColumnTransformer use this feature and define the default style\n",
       "- Estimators will overwrite some part of the style using the `sk-estimator` class\n",
       "*/\n",
       "\n",
       "/* Pipeline and ColumnTransformer style (default) */\n",
       "\n",
       "#sk-container-id-1 div.sk-toggleable {\n",
       "  /* Default theme specific background. It is overwritten whether we have a\n",
       "  specific estimator or a Pipeline/ColumnTransformer */\n",
       "  background-color: var(--sklearn-color-background);\n",
       "}\n",
       "\n",
       "/* Toggleable label */\n",
       "#sk-container-id-1 label.sk-toggleable__label {\n",
       "  cursor: pointer;\n",
       "  display: block;\n",
       "  width: 100%;\n",
       "  margin-bottom: 0;\n",
       "  padding: 0.5em;\n",
       "  box-sizing: border-box;\n",
       "  text-align: center;\n",
       "}\n",
       "\n",
       "#sk-container-id-1 label.sk-toggleable__label-arrow:before {\n",
       "  /* Arrow on the left of the label */\n",
       "  content: \"▸\";\n",
       "  float: left;\n",
       "  margin-right: 0.25em;\n",
       "  color: var(--sklearn-color-icon);\n",
       "}\n",
       "\n",
       "#sk-container-id-1 label.sk-toggleable__label-arrow:hover:before {\n",
       "  color: var(--sklearn-color-text);\n",
       "}\n",
       "\n",
       "/* Toggleable content - dropdown */\n",
       "\n",
       "#sk-container-id-1 div.sk-toggleable__content {\n",
       "  max-height: 0;\n",
       "  max-width: 0;\n",
       "  overflow: hidden;\n",
       "  text-align: left;\n",
       "  /* unfitted */\n",
       "  background-color: var(--sklearn-color-unfitted-level-0);\n",
       "}\n",
       "\n",
       "#sk-container-id-1 div.sk-toggleable__content.fitted {\n",
       "  /* fitted */\n",
       "  background-color: var(--sklearn-color-fitted-level-0);\n",
       "}\n",
       "\n",
       "#sk-container-id-1 div.sk-toggleable__content pre {\n",
       "  margin: 0.2em;\n",
       "  border-radius: 0.25em;\n",
       "  color: var(--sklearn-color-text);\n",
       "  /* unfitted */\n",
       "  background-color: var(--sklearn-color-unfitted-level-0);\n",
       "}\n",
       "\n",
       "#sk-container-id-1 div.sk-toggleable__content.fitted pre {\n",
       "  /* unfitted */\n",
       "  background-color: var(--sklearn-color-fitted-level-0);\n",
       "}\n",
       "\n",
       "#sk-container-id-1 input.sk-toggleable__control:checked~div.sk-toggleable__content {\n",
       "  /* Expand drop-down */\n",
       "  max-height: 200px;\n",
       "  max-width: 100%;\n",
       "  overflow: auto;\n",
       "}\n",
       "\n",
       "#sk-container-id-1 input.sk-toggleable__control:checked~label.sk-toggleable__label-arrow:before {\n",
       "  content: \"▾\";\n",
       "}\n",
       "\n",
       "/* Pipeline/ColumnTransformer-specific style */\n",
       "\n",
       "#sk-container-id-1 div.sk-label input.sk-toggleable__control:checked~label.sk-toggleable__label {\n",
       "  color: var(--sklearn-color-text);\n",
       "  background-color: var(--sklearn-color-unfitted-level-2);\n",
       "}\n",
       "\n",
       "#sk-container-id-1 div.sk-label.fitted input.sk-toggleable__control:checked~label.sk-toggleable__label {\n",
       "  background-color: var(--sklearn-color-fitted-level-2);\n",
       "}\n",
       "\n",
       "/* Estimator-specific style */\n",
       "\n",
       "/* Colorize estimator box */\n",
       "#sk-container-id-1 div.sk-estimator input.sk-toggleable__control:checked~label.sk-toggleable__label {\n",
       "  /* unfitted */\n",
       "  background-color: var(--sklearn-color-unfitted-level-2);\n",
       "}\n",
       "\n",
       "#sk-container-id-1 div.sk-estimator.fitted input.sk-toggleable__control:checked~label.sk-toggleable__label {\n",
       "  /* fitted */\n",
       "  background-color: var(--sklearn-color-fitted-level-2);\n",
       "}\n",
       "\n",
       "#sk-container-id-1 div.sk-label label.sk-toggleable__label,\n",
       "#sk-container-id-1 div.sk-label label {\n",
       "  /* The background is the default theme color */\n",
       "  color: var(--sklearn-color-text-on-default-background);\n",
       "}\n",
       "\n",
       "/* On hover, darken the color of the background */\n",
       "#sk-container-id-1 div.sk-label:hover label.sk-toggleable__label {\n",
       "  color: var(--sklearn-color-text);\n",
       "  background-color: var(--sklearn-color-unfitted-level-2);\n",
       "}\n",
       "\n",
       "/* Label box, darken color on hover, fitted */\n",
       "#sk-container-id-1 div.sk-label.fitted:hover label.sk-toggleable__label.fitted {\n",
       "  color: var(--sklearn-color-text);\n",
       "  background-color: var(--sklearn-color-fitted-level-2);\n",
       "}\n",
       "\n",
       "/* Estimator label */\n",
       "\n",
       "#sk-container-id-1 div.sk-label label {\n",
       "  font-family: monospace;\n",
       "  font-weight: bold;\n",
       "  display: inline-block;\n",
       "  line-height: 1.2em;\n",
       "}\n",
       "\n",
       "#sk-container-id-1 div.sk-label-container {\n",
       "  text-align: center;\n",
       "}\n",
       "\n",
       "/* Estimator-specific */\n",
       "#sk-container-id-1 div.sk-estimator {\n",
       "  font-family: monospace;\n",
       "  border: 1px dotted var(--sklearn-color-border-box);\n",
       "  border-radius: 0.25em;\n",
       "  box-sizing: border-box;\n",
       "  margin-bottom: 0.5em;\n",
       "  /* unfitted */\n",
       "  background-color: var(--sklearn-color-unfitted-level-0);\n",
       "}\n",
       "\n",
       "#sk-container-id-1 div.sk-estimator.fitted {\n",
       "  /* fitted */\n",
       "  background-color: var(--sklearn-color-fitted-level-0);\n",
       "}\n",
       "\n",
       "/* on hover */\n",
       "#sk-container-id-1 div.sk-estimator:hover {\n",
       "  /* unfitted */\n",
       "  background-color: var(--sklearn-color-unfitted-level-2);\n",
       "}\n",
       "\n",
       "#sk-container-id-1 div.sk-estimator.fitted:hover {\n",
       "  /* fitted */\n",
       "  background-color: var(--sklearn-color-fitted-level-2);\n",
       "}\n",
       "\n",
       "/* Specification for estimator info (e.g. \"i\" and \"?\") */\n",
       "\n",
       "/* Common style for \"i\" and \"?\" */\n",
       "\n",
       ".sk-estimator-doc-link,\n",
       "a:link.sk-estimator-doc-link,\n",
       "a:visited.sk-estimator-doc-link {\n",
       "  float: right;\n",
       "  font-size: smaller;\n",
       "  line-height: 1em;\n",
       "  font-family: monospace;\n",
       "  background-color: var(--sklearn-color-background);\n",
       "  border-radius: 1em;\n",
       "  height: 1em;\n",
       "  width: 1em;\n",
       "  text-decoration: none !important;\n",
       "  margin-left: 1ex;\n",
       "  /* unfitted */\n",
       "  border: var(--sklearn-color-unfitted-level-1) 1pt solid;\n",
       "  color: var(--sklearn-color-unfitted-level-1);\n",
       "}\n",
       "\n",
       ".sk-estimator-doc-link.fitted,\n",
       "a:link.sk-estimator-doc-link.fitted,\n",
       "a:visited.sk-estimator-doc-link.fitted {\n",
       "  /* fitted */\n",
       "  border: var(--sklearn-color-fitted-level-1) 1pt solid;\n",
       "  color: var(--sklearn-color-fitted-level-1);\n",
       "}\n",
       "\n",
       "/* On hover */\n",
       "div.sk-estimator:hover .sk-estimator-doc-link:hover,\n",
       ".sk-estimator-doc-link:hover,\n",
       "div.sk-label-container:hover .sk-estimator-doc-link:hover,\n",
       ".sk-estimator-doc-link:hover {\n",
       "  /* unfitted */\n",
       "  background-color: var(--sklearn-color-unfitted-level-3);\n",
       "  color: var(--sklearn-color-background);\n",
       "  text-decoration: none;\n",
       "}\n",
       "\n",
       "div.sk-estimator.fitted:hover .sk-estimator-doc-link.fitted:hover,\n",
       ".sk-estimator-doc-link.fitted:hover,\n",
       "div.sk-label-container:hover .sk-estimator-doc-link.fitted:hover,\n",
       ".sk-estimator-doc-link.fitted:hover {\n",
       "  /* fitted */\n",
       "  background-color: var(--sklearn-color-fitted-level-3);\n",
       "  color: var(--sklearn-color-background);\n",
       "  text-decoration: none;\n",
       "}\n",
       "\n",
       "/* Span, style for the box shown on hovering the info icon */\n",
       ".sk-estimator-doc-link span {\n",
       "  display: none;\n",
       "  z-index: 9999;\n",
       "  position: relative;\n",
       "  font-weight: normal;\n",
       "  right: .2ex;\n",
       "  padding: .5ex;\n",
       "  margin: .5ex;\n",
       "  width: min-content;\n",
       "  min-width: 20ex;\n",
       "  max-width: 50ex;\n",
       "  color: var(--sklearn-color-text);\n",
       "  box-shadow: 2pt 2pt 4pt #999;\n",
       "  /* unfitted */\n",
       "  background: var(--sklearn-color-unfitted-level-0);\n",
       "  border: .5pt solid var(--sklearn-color-unfitted-level-3);\n",
       "}\n",
       "\n",
       ".sk-estimator-doc-link.fitted span {\n",
       "  /* fitted */\n",
       "  background: var(--sklearn-color-fitted-level-0);\n",
       "  border: var(--sklearn-color-fitted-level-3);\n",
       "}\n",
       "\n",
       ".sk-estimator-doc-link:hover span {\n",
       "  display: block;\n",
       "}\n",
       "\n",
       "/* \"?\"-specific style due to the `<a>` HTML tag */\n",
       "\n",
       "#sk-container-id-1 a.estimator_doc_link {\n",
       "  float: right;\n",
       "  font-size: 1rem;\n",
       "  line-height: 1em;\n",
       "  font-family: monospace;\n",
       "  background-color: var(--sklearn-color-background);\n",
       "  border-radius: 1rem;\n",
       "  height: 1rem;\n",
       "  width: 1rem;\n",
       "  text-decoration: none;\n",
       "  /* unfitted */\n",
       "  color: var(--sklearn-color-unfitted-level-1);\n",
       "  border: var(--sklearn-color-unfitted-level-1) 1pt solid;\n",
       "}\n",
       "\n",
       "#sk-container-id-1 a.estimator_doc_link.fitted {\n",
       "  /* fitted */\n",
       "  border: var(--sklearn-color-fitted-level-1) 1pt solid;\n",
       "  color: var(--sklearn-color-fitted-level-1);\n",
       "}\n",
       "\n",
       "/* On hover */\n",
       "#sk-container-id-1 a.estimator_doc_link:hover {\n",
       "  /* unfitted */\n",
       "  background-color: var(--sklearn-color-unfitted-level-3);\n",
       "  color: var(--sklearn-color-background);\n",
       "  text-decoration: none;\n",
       "}\n",
       "\n",
       "#sk-container-id-1 a.estimator_doc_link.fitted:hover {\n",
       "  /* fitted */\n",
       "  background-color: var(--sklearn-color-fitted-level-3);\n",
       "}\n",
       "</style><div id=\"sk-container-id-1\" class=\"sk-top-container\"><div class=\"sk-text-repr-fallback\"><pre>StandardScaler()</pre><b>In a Jupyter environment, please rerun this cell to show the HTML representation or trust the notebook. <br />On GitHub, the HTML representation is unable to render, please try loading this page with nbviewer.org.</b></div><div class=\"sk-container\" hidden><div class=\"sk-item\"><div class=\"sk-estimator  sk-toggleable\"><input class=\"sk-toggleable__control sk-hidden--visually\" id=\"sk-estimator-id-1\" type=\"checkbox\" checked><label for=\"sk-estimator-id-1\" class=\"sk-toggleable__label  sk-toggleable__label-arrow \">&nbsp;&nbsp;StandardScaler<a class=\"sk-estimator-doc-link \" rel=\"noreferrer\" target=\"_blank\" href=\"https://scikit-learn.org/1.5/modules/generated/sklearn.preprocessing.StandardScaler.html\">?<span>Documentation for StandardScaler</span></a><span class=\"sk-estimator-doc-link \">i<span>Not fitted</span></span></label><div class=\"sk-toggleable__content \"><pre>StandardScaler()</pre></div> </div></div></div></div>"
      ],
      "text/plain": [
       "StandardScaler()"
      ]
     },
     "execution_count": 10,
     "metadata": {},
     "output_type": "execute_result"
    }
   ],
   "source": [
    "# Standardizing numerical columns\n",
    "scaler = StandardScaler()\n",
    "scaler\n"
   ]
  },
  {
   "cell_type": "code",
   "execution_count": 13,
   "id": "722a0709-b7c8-488f-a54e-b6232c96476b",
   "metadata": {},
   "outputs": [
    {
     "data": {
      "text/html": [
       "<div>\n",
       "<style scoped>\n",
       "    .dataframe tbody tr th:only-of-type {\n",
       "        vertical-align: middle;\n",
       "    }\n",
       "\n",
       "    .dataframe tbody tr th {\n",
       "        vertical-align: top;\n",
       "    }\n",
       "\n",
       "    .dataframe thead th {\n",
       "        text-align: right;\n",
       "    }\n",
       "</style>\n",
       "<table border=\"1\" class=\"dataframe\">\n",
       "  <thead>\n",
       "    <tr style=\"text-align: right;\">\n",
       "      <th></th>\n",
       "      <th>Date</th>\n",
       "      <th>Day</th>\n",
       "      <th>SKU</th>\n",
       "      <th>City</th>\n",
       "      <th>Volume</th>\n",
       "      <th>BU</th>\n",
       "      <th>Brand</th>\n",
       "      <th>Model</th>\n",
       "      <th>Avg Price</th>\n",
       "      <th>Total Sales Value</th>\n",
       "      <th>Discount Rate (%)</th>\n",
       "      <th>Discount Amount</th>\n",
       "      <th>Net Sales Value</th>\n",
       "    </tr>\n",
       "  </thead>\n",
       "  <tbody>\n",
       "    <tr>\n",
       "      <th>0</th>\n",
       "      <td>01-04-2021</td>\n",
       "      <td>Thursday</td>\n",
       "      <td>M01</td>\n",
       "      <td>C</td>\n",
       "      <td>15</td>\n",
       "      <td>Mobiles</td>\n",
       "      <td>RealU</td>\n",
       "      <td>RU-10</td>\n",
       "      <td>12100</td>\n",
       "      <td>181500</td>\n",
       "      <td>11.654820</td>\n",
       "      <td>21153.498820</td>\n",
       "      <td>160346.501180</td>\n",
       "    </tr>\n",
       "    <tr>\n",
       "      <th>1</th>\n",
       "      <td>01-04-2021</td>\n",
       "      <td>Thursday</td>\n",
       "      <td>M02</td>\n",
       "      <td>C</td>\n",
       "      <td>10</td>\n",
       "      <td>Mobiles</td>\n",
       "      <td>RealU</td>\n",
       "      <td>RU-9 Plus</td>\n",
       "      <td>10100</td>\n",
       "      <td>101000</td>\n",
       "      <td>11.560498</td>\n",
       "      <td>11676.102961</td>\n",
       "      <td>89323.897039</td>\n",
       "    </tr>\n",
       "    <tr>\n",
       "      <th>2</th>\n",
       "      <td>01-04-2021</td>\n",
       "      <td>Thursday</td>\n",
       "      <td>M03</td>\n",
       "      <td>C</td>\n",
       "      <td>7</td>\n",
       "      <td>Mobiles</td>\n",
       "      <td>YouM</td>\n",
       "      <td>YM-99</td>\n",
       "      <td>16100</td>\n",
       "      <td>112700</td>\n",
       "      <td>9.456886</td>\n",
       "      <td>10657.910157</td>\n",
       "      <td>102042.089843</td>\n",
       "    </tr>\n",
       "    <tr>\n",
       "      <th>3</th>\n",
       "      <td>01-04-2021</td>\n",
       "      <td>Thursday</td>\n",
       "      <td>M04</td>\n",
       "      <td>C</td>\n",
       "      <td>6</td>\n",
       "      <td>Mobiles</td>\n",
       "      <td>YouM</td>\n",
       "      <td>YM-99 Plus</td>\n",
       "      <td>20100</td>\n",
       "      <td>120600</td>\n",
       "      <td>6.935385</td>\n",
       "      <td>8364.074702</td>\n",
       "      <td>112235.925298</td>\n",
       "    </tr>\n",
       "    <tr>\n",
       "      <th>4</th>\n",
       "      <td>01-04-2021</td>\n",
       "      <td>Thursday</td>\n",
       "      <td>M05</td>\n",
       "      <td>C</td>\n",
       "      <td>3</td>\n",
       "      <td>Mobiles</td>\n",
       "      <td>YouM</td>\n",
       "      <td>YM-98</td>\n",
       "      <td>8100</td>\n",
       "      <td>24300</td>\n",
       "      <td>17.995663</td>\n",
       "      <td>4372.946230</td>\n",
       "      <td>19927.053770</td>\n",
       "    </tr>\n",
       "    <tr>\n",
       "      <th>...</th>\n",
       "      <td>...</td>\n",
       "      <td>...</td>\n",
       "      <td>...</td>\n",
       "      <td>...</td>\n",
       "      <td>...</td>\n",
       "      <td>...</td>\n",
       "      <td>...</td>\n",
       "      <td>...</td>\n",
       "      <td>...</td>\n",
       "      <td>...</td>\n",
       "      <td>...</td>\n",
       "      <td>...</td>\n",
       "      <td>...</td>\n",
       "    </tr>\n",
       "    <tr>\n",
       "      <th>445</th>\n",
       "      <td>15-04-2021</td>\n",
       "      <td>Thursday</td>\n",
       "      <td>L06</td>\n",
       "      <td>C</td>\n",
       "      <td>2</td>\n",
       "      <td>Lifestyle</td>\n",
       "      <td>Jeera</td>\n",
       "      <td>M-Casuals</td>\n",
       "      <td>1300</td>\n",
       "      <td>2600</td>\n",
       "      <td>15.475687</td>\n",
       "      <td>402.367873</td>\n",
       "      <td>2197.632127</td>\n",
       "    </tr>\n",
       "    <tr>\n",
       "      <th>446</th>\n",
       "      <td>15-04-2021</td>\n",
       "      <td>Thursday</td>\n",
       "      <td>L07</td>\n",
       "      <td>C</td>\n",
       "      <td>6</td>\n",
       "      <td>Lifestyle</td>\n",
       "      <td>Viva</td>\n",
       "      <td>W-Western</td>\n",
       "      <td>2600</td>\n",
       "      <td>15600</td>\n",
       "      <td>17.057027</td>\n",
       "      <td>2660.896242</td>\n",
       "      <td>12939.103758</td>\n",
       "    </tr>\n",
       "    <tr>\n",
       "      <th>447</th>\n",
       "      <td>15-04-2021</td>\n",
       "      <td>Thursday</td>\n",
       "      <td>L08</td>\n",
       "      <td>C</td>\n",
       "      <td>2</td>\n",
       "      <td>Lifestyle</td>\n",
       "      <td>Viva</td>\n",
       "      <td>W-Lounge</td>\n",
       "      <td>1600</td>\n",
       "      <td>3200</td>\n",
       "      <td>18.965550</td>\n",
       "      <td>606.897606</td>\n",
       "      <td>2593.102394</td>\n",
       "    </tr>\n",
       "    <tr>\n",
       "      <th>448</th>\n",
       "      <td>15-04-2021</td>\n",
       "      <td>Thursday</td>\n",
       "      <td>L09</td>\n",
       "      <td>C</td>\n",
       "      <td>3</td>\n",
       "      <td>Lifestyle</td>\n",
       "      <td>Jeera</td>\n",
       "      <td>M-Formals</td>\n",
       "      <td>1900</td>\n",
       "      <td>5700</td>\n",
       "      <td>16.793014</td>\n",
       "      <td>957.201826</td>\n",
       "      <td>4742.798174</td>\n",
       "    </tr>\n",
       "    <tr>\n",
       "      <th>449</th>\n",
       "      <td>15-04-2021</td>\n",
       "      <td>Thursday</td>\n",
       "      <td>L10</td>\n",
       "      <td>C</td>\n",
       "      <td>1</td>\n",
       "      <td>Lifestyle</td>\n",
       "      <td>Jeera</td>\n",
       "      <td>M-Shoes</td>\n",
       "      <td>3100</td>\n",
       "      <td>3100</td>\n",
       "      <td>15.333300</td>\n",
       "      <td>475.332295</td>\n",
       "      <td>2624.667705</td>\n",
       "    </tr>\n",
       "  </tbody>\n",
       "</table>\n",
       "<p>450 rows × 13 columns</p>\n",
       "</div>"
      ],
      "text/plain": [
       "           Date       Day  SKU City  Volume         BU  Brand       Model  \\\n",
       "0    01-04-2021  Thursday  M01    C      15    Mobiles  RealU       RU-10   \n",
       "1    01-04-2021  Thursday  M02    C      10    Mobiles  RealU   RU-9 Plus   \n",
       "2    01-04-2021  Thursday  M03    C       7    Mobiles   YouM       YM-99   \n",
       "3    01-04-2021  Thursday  M04    C       6    Mobiles   YouM  YM-99 Plus   \n",
       "4    01-04-2021  Thursday  M05    C       3    Mobiles   YouM      YM-98    \n",
       "..          ...       ...  ...  ...     ...        ...    ...         ...   \n",
       "445  15-04-2021  Thursday  L06    C       2  Lifestyle  Jeera   M-Casuals   \n",
       "446  15-04-2021  Thursday  L07    C       6  Lifestyle   Viva   W-Western   \n",
       "447  15-04-2021  Thursday  L08    C       2  Lifestyle   Viva    W-Lounge   \n",
       "448  15-04-2021  Thursday  L09    C       3  Lifestyle  Jeera   M-Formals   \n",
       "449  15-04-2021  Thursday  L10    C       1  Lifestyle  Jeera     M-Shoes   \n",
       "\n",
       "     Avg Price  Total Sales Value  Discount Rate (%)  Discount Amount  \\\n",
       "0        12100             181500          11.654820     21153.498820   \n",
       "1        10100             101000          11.560498     11676.102961   \n",
       "2        16100             112700           9.456886     10657.910157   \n",
       "3        20100             120600           6.935385      8364.074702   \n",
       "4         8100              24300          17.995663      4372.946230   \n",
       "..         ...                ...                ...              ...   \n",
       "445       1300               2600          15.475687       402.367873   \n",
       "446       2600              15600          17.057027      2660.896242   \n",
       "447       1600               3200          18.965550       606.897606   \n",
       "448       1900               5700          16.793014       957.201826   \n",
       "449       3100               3100          15.333300       475.332295   \n",
       "\n",
       "     Net Sales Value  \n",
       "0      160346.501180  \n",
       "1       89323.897039  \n",
       "2      102042.089843  \n",
       "3      112235.925298  \n",
       "4       19927.053770  \n",
       "..               ...  \n",
       "445      2197.632127  \n",
       "446     12939.103758  \n",
       "447      2593.102394  \n",
       "448      4742.798174  \n",
       "449      2624.667705  \n",
       "\n",
       "[450 rows x 13 columns]"
      ]
     },
     "execution_count": 13,
     "metadata": {},
     "output_type": "execute_result"
    }
   ],
   "source": [
    "import pandas as pd\n",
    "df=pd.read_csv(r'C:\\Users\\nikit\\Downloads\\sales_data_with_discounts.csv')\n",
    "df"
   ]
  },
  {
   "cell_type": "code",
   "execution_count": 15,
   "id": "b6d3b4a1-329f-4e0d-b83b-91117fa7c456",
   "metadata": {},
   "outputs": [
    {
     "name": "stdout",
     "output_type": "stream",
     "text": [
      "\n",
      "Summary Statistics After Standardization:\n",
      "           Date       Day  SKU City  Volume         BU  Brand       Model  \\\n",
      "0    01-04-2021  Thursday  M01    C      15    Mobiles  RealU       RU-10   \n",
      "1    01-04-2021  Thursday  M02    C      10    Mobiles  RealU   RU-9 Plus   \n",
      "2    01-04-2021  Thursday  M03    C       7    Mobiles   YouM       YM-99   \n",
      "3    01-04-2021  Thursday  M04    C       6    Mobiles   YouM  YM-99 Plus   \n",
      "4    01-04-2021  Thursday  M05    C       3    Mobiles   YouM      YM-98    \n",
      "..          ...       ...  ...  ...     ...        ...    ...         ...   \n",
      "445  15-04-2021  Thursday  L06    C       2  Lifestyle  Jeera   M-Casuals   \n",
      "446  15-04-2021  Thursday  L07    C       6  Lifestyle   Viva   W-Western   \n",
      "447  15-04-2021  Thursday  L08    C       2  Lifestyle   Viva    W-Lounge   \n",
      "448  15-04-2021  Thursday  L09    C       3  Lifestyle  Jeera   M-Formals   \n",
      "449  15-04-2021  Thursday  L10    C       1  Lifestyle  Jeera     M-Shoes   \n",
      "\n",
      "     Avg Price  Total Sales Value  Discount Rate (%)  Discount Amount  \\\n",
      "0        12100             181500          11.654820     21153.498820   \n",
      "1        10100             101000          11.560498     11676.102961   \n",
      "2        16100             112700           9.456886     10657.910157   \n",
      "3        20100             120600           6.935385      8364.074702   \n",
      "4         8100              24300          17.995663      4372.946230   \n",
      "..         ...                ...                ...              ...   \n",
      "445       1300               2600          15.475687       402.367873   \n",
      "446       2600              15600          17.057027      2660.896242   \n",
      "447       1600               3200          18.965550       606.897606   \n",
      "448       1900               5700          16.793014       957.201826   \n",
      "449       3100               3100          15.333300       475.332295   \n",
      "\n",
      "     Net Sales Value  \n",
      "0      160346.501180  \n",
      "1       89323.897039  \n",
      "2      102042.089843  \n",
      "3      112235.925298  \n",
      "4       19927.053770  \n",
      "..               ...  \n",
      "445      2197.632127  \n",
      "446     12939.103758  \n",
      "447      2593.102394  \n",
      "448      4742.798174  \n",
      "449      2624.667705  \n",
      "\n",
      "[450 rows x 13 columns]\n"
     ]
    }
   ],
   "source": [
    "# Displaying summary statistics after standardization\n",
    "print(\"\\nSummary Statistics After Standardization:\")\n",
    "print(df)\n"
   ]
  },
  {
   "cell_type": "code",
   "execution_count": 9,
   "id": "6811595c-1031-4461-a3a7-36af7663ba6e",
   "metadata": {},
   "outputs": [
    {
     "ename": "SyntaxError",
     "evalue": "invalid syntax (344272408.py, line 2)",
     "output_type": "error",
     "traceback": [
      "\u001b[1;36m  Cell \u001b[1;32mIn[9], line 2\u001b[1;36m\u001b[0m\n\u001b[1;33m    for column in :\u001b[0m\n\u001b[1;37m                  ^\u001b[0m\n\u001b[1;31mSyntaxError\u001b[0m\u001b[1;31m:\u001b[0m invalid syntax\n"
     ]
    }
   ],
   "source": [
    "# Displaying comparison of data distributions before and after standardization\n",
    "for column in :\n",
    "    plt.figure(figsize=(10, 4))\n",
    "    plt.subplot(1, 2, 1)\n",
    "    plt.hist(df[column], bins=20, color='skyblue', edgecolor='black')\n",
    "    plt.title(f'Distribution of {column} (Before Standardization)')\n",
    "    plt.xlabel(column)\n",
    "    plt.ylabel('Frequency')\n",
    "    plt.subplot(1, 2, 2)\n",
    "    plt.hist(df[column], bins=20, color='salmon', edgecolor='black')\n",
    "    plt.title(f'Distribution of {column} (After Standardization)')\n",
    "    plt.xlabel(column)\n",
    "    plt.ylabel('Frequency')\n",
    "    plt.tight_layout()\n",
    "    plt.show()"
   ]
  },
  {
   "cell_type": "code",
   "execution_count": 8,
   "id": "8ffe7c55-63c3-456f-b5e9-20e85472517f",
   "metadata": {},
   "outputs": [],
   "source": [
    "import pandas as pd\n",
    "df=pd.read_csv(r'C:\\Users\\nikit\\Downloads\\sales_data_with_discounts.csv')\n",
    "df\n",
    "sales_data_encoded = pd.get_dummies(df)"
   ]
  },
  {
   "cell_type": "code",
   "execution_count": null,
   "id": "c6f31982-b33f-4e20-97f5-0ce3dcaced6a",
   "metadata": {},
   "outputs": [],
   "source": []
  }
 ],
 "metadata": {
  "kernelspec": {
   "display_name": "Python 3 (ipykernel)",
   "language": "python",
   "name": "python3"
  },
  "language_info": {
   "codemirror_mode": {
    "name": "ipython",
    "version": 3
   },
   "file_extension": ".py",
   "mimetype": "text/x-python",
   "name": "python",
   "nbconvert_exporter": "python",
   "pygments_lexer": "ipython3",
   "version": "3.12.7"
  }
 },
 "nbformat": 4,
 "nbformat_minor": 5
}
